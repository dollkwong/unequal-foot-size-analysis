{
 "cells": [
  {
   "cell_type": "code",
   "execution_count": 110,
   "id": "fe3a071b-9647-4fcd-9040-1725a77c2256",
   "metadata": {},
   "outputs": [],
   "source": [
    "import pandas as pd\n",
    "import numpy as np"
   ]
  },
  {
   "cell_type": "code",
   "execution_count": 111,
   "id": "986d3768",
   "metadata": {},
   "outputs": [],
   "source": [
    "data = pd.read_excel(\"questionaire_raw.xlsx\")\n",
    "df = pd.DataFrame(data)"
   ]
  },
  {
   "cell_type": "code",
   "execution_count": 112,
   "id": "df6e7cd4",
   "metadata": {},
   "outputs": [],
   "source": [
    "# Translate and remane columns manually\n",
    "df = df.rename(columns={\n",
    "        \"你有大細腳的問題嗎？\": \"suffering_from_unequal_foot_size\", \n",
    "        \"你的性別\": \"Gender\",\n",
    "        \"哪隻腳比較大？\": \"bigger_foot\",\n",
    "        \"左右腳大約相差的碼數是？\": \"feet_size_difference_EU\",\n",
    "        \"你平時買鞋的大約碼數？\": \"usual_shoe_size_EU\",\n",
    "        \"參考的鞋款/牌子？(如converse/nike，可選填）\": \"reference_shoe_brand\",\n",
    "    })"
   ]
  },
  {
   "cell_type": "code",
   "execution_count": 113,
   "id": "1f31de28",
   "metadata": {},
   "outputs": [
    {
     "name": "stderr",
     "output_type": "stream",
     "text": [
      "/var/folders/ds/sqj592l55_d1lx7mf8hn7w1w0000gn/T/ipykernel_66695/3856691696.py:2: FutureWarning: Downcasting behavior in `replace` is deprecated and will be removed in a future version. To retain the old behavior, explicitly call `result.infer_objects(copy=False)`. To opt-in to the future behavior, set `pd.set_option('future.no_silent_downcasting', True)`\n",
      "  df[\"suffering_from_unequal_foot_size\"] = df[\"suffering_from_unequal_foot_size\"].replace(\"有\", True).replace(\"沒有\", False)\n",
      "/var/folders/ds/sqj592l55_d1lx7mf8hn7w1w0000gn/T/ipykernel_66695/3856691696.py:5: FutureWarning: Downcasting behavior in `replace` is deprecated and will be removed in a future version. To retain the old behavior, explicitly call `result.infer_objects(copy=False)`. To opt-in to the future behavior, set `pd.set_option('future.no_silent_downcasting', True)`\n",
      "  df[\"feet_size_difference_EU\"] = df[\"feet_size_difference_EU\"].replace(\"小於半個碼\", 0.25).replace(\"半個碼\", 0.5).replace(\"一個碼\", 1).replace(\"1.5個\", 1.5)\n"
     ]
    }
   ],
   "source": [
    "# Tidy up column values\n",
    "df[\"suffering_from_unequal_foot_size\"] = df[\"suffering_from_unequal_foot_size\"].replace(\"有\", True).replace(\"沒有\", False)\n",
    "df[\"Gender\"] = df[\"Gender\"].replace(\"男\", \"Male\").replace(\"女\", \"Female\")\n",
    "df[\"bigger_foot\"] = df[\"bigger_foot\"].replace(\"左\", \"Left\").replace(\"右\", \"Right\")\n",
    "df[\"feet_size_difference_EU\"] = df[\"feet_size_difference_EU\"].replace(\"小於半個碼\", 0.25).replace(\"半個碼\", 0.5).replace(\"一個碼\", 1).replace(\"1.5個\", 1.5)"
   ]
  },
  {
   "cell_type": "code",
   "execution_count": 114,
   "id": "dbe33052",
   "metadata": {},
   "outputs": [
    {
     "data": {
      "text/html": [
       "<div>\n",
       "<style scoped>\n",
       "    .dataframe tbody tr th:only-of-type {\n",
       "        vertical-align: middle;\n",
       "    }\n",
       "\n",
       "    .dataframe tbody tr th {\n",
       "        vertical-align: top;\n",
       "    }\n",
       "\n",
       "    .dataframe thead th {\n",
       "        text-align: right;\n",
       "    }\n",
       "</style>\n",
       "<table border=\"1\" class=\"dataframe\">\n",
       "  <thead>\n",
       "    <tr style=\"text-align: right;\">\n",
       "      <th></th>\n",
       "      <th>suffering_from_unequal_foot_size</th>\n",
       "      <th>Gender</th>\n",
       "      <th>bigger_foot</th>\n",
       "      <th>feet_size_difference_EU</th>\n",
       "      <th>usual_shoe_size_EU</th>\n",
       "      <th>reference_shoe_brand</th>\n",
       "    </tr>\n",
       "  </thead>\n",
       "  <tbody>\n",
       "    <tr>\n",
       "      <th>0</th>\n",
       "      <td>True</td>\n",
       "      <td>Male</td>\n",
       "      <td>Right</td>\n",
       "      <td>0.50</td>\n",
       "      <td>43.5</td>\n",
       "      <td>Adidas</td>\n",
       "    </tr>\n",
       "    <tr>\n",
       "      <th>1</th>\n",
       "      <td>True</td>\n",
       "      <td>Male</td>\n",
       "      <td>Right</td>\n",
       "      <td>0.25</td>\n",
       "      <td>43.0</td>\n",
       "      <td>Converse</td>\n",
       "    </tr>\n",
       "    <tr>\n",
       "      <th>2</th>\n",
       "      <td>False</td>\n",
       "      <td>Male</td>\n",
       "      <td>NaN</td>\n",
       "      <td>NaN</td>\n",
       "      <td>NaN</td>\n",
       "      <td>NaN</td>\n",
       "    </tr>\n",
       "    <tr>\n",
       "      <th>3</th>\n",
       "      <td>False</td>\n",
       "      <td>Male</td>\n",
       "      <td>NaN</td>\n",
       "      <td>NaN</td>\n",
       "      <td>NaN</td>\n",
       "      <td>NaN</td>\n",
       "    </tr>\n",
       "    <tr>\n",
       "      <th>4</th>\n",
       "      <td>False</td>\n",
       "      <td>Female</td>\n",
       "      <td>NaN</td>\n",
       "      <td>NaN</td>\n",
       "      <td>NaN</td>\n",
       "      <td>NaN</td>\n",
       "    </tr>\n",
       "    <tr>\n",
       "      <th>...</th>\n",
       "      <td>...</td>\n",
       "      <td>...</td>\n",
       "      <td>...</td>\n",
       "      <td>...</td>\n",
       "      <td>...</td>\n",
       "      <td>...</td>\n",
       "    </tr>\n",
       "    <tr>\n",
       "      <th>895</th>\n",
       "      <td>True</td>\n",
       "      <td>Female</td>\n",
       "      <td>Left</td>\n",
       "      <td>0.25</td>\n",
       "      <td>40.0</td>\n",
       "      <td>NaN</td>\n",
       "    </tr>\n",
       "    <tr>\n",
       "      <th>896</th>\n",
       "      <td>False</td>\n",
       "      <td>Female</td>\n",
       "      <td>NaN</td>\n",
       "      <td>NaN</td>\n",
       "      <td>NaN</td>\n",
       "      <td>NaN</td>\n",
       "    </tr>\n",
       "    <tr>\n",
       "      <th>897</th>\n",
       "      <td>True</td>\n",
       "      <td>Male</td>\n",
       "      <td>Right</td>\n",
       "      <td>0.50</td>\n",
       "      <td>44.0</td>\n",
       "      <td>NaN</td>\n",
       "    </tr>\n",
       "    <tr>\n",
       "      <th>898</th>\n",
       "      <td>False</td>\n",
       "      <td>Male</td>\n",
       "      <td>NaN</td>\n",
       "      <td>NaN</td>\n",
       "      <td>NaN</td>\n",
       "      <td>NaN</td>\n",
       "    </tr>\n",
       "    <tr>\n",
       "      <th>899</th>\n",
       "      <td>True</td>\n",
       "      <td>Male</td>\n",
       "      <td>Left</td>\n",
       "      <td>0.50</td>\n",
       "      <td>44.5</td>\n",
       "      <td>Converse</td>\n",
       "    </tr>\n",
       "  </tbody>\n",
       "</table>\n",
       "<p>900 rows × 6 columns</p>\n",
       "</div>"
      ],
      "text/plain": [
       "     suffering_from_unequal_foot_size  Gender bigger_foot  \\\n",
       "0                                True    Male       Right   \n",
       "1                                True    Male       Right   \n",
       "2                               False    Male         NaN   \n",
       "3                               False    Male         NaN   \n",
       "4                               False  Female         NaN   \n",
       "..                                ...     ...         ...   \n",
       "895                              True  Female        Left   \n",
       "896                             False  Female         NaN   \n",
       "897                              True    Male       Right   \n",
       "898                             False    Male         NaN   \n",
       "899                              True    Male        Left   \n",
       "\n",
       "     feet_size_difference_EU  usual_shoe_size_EU reference_shoe_brand  \n",
       "0                       0.50                43.5               Adidas  \n",
       "1                       0.25                43.0             Converse  \n",
       "2                        NaN                 NaN                  NaN  \n",
       "3                        NaN                 NaN                  NaN  \n",
       "4                        NaN                 NaN                  NaN  \n",
       "..                       ...                 ...                  ...  \n",
       "895                     0.25                40.0                  NaN  \n",
       "896                      NaN                 NaN                  NaN  \n",
       "897                     0.50                44.0                  NaN  \n",
       "898                      NaN                 NaN                  NaN  \n",
       "899                     0.50                44.5             Converse  \n",
       "\n",
       "[900 rows x 6 columns]"
      ]
     },
     "execution_count": 114,
     "metadata": {},
     "output_type": "execute_result"
    }
   ],
   "source": [
    "df"
   ]
  },
  {
   "cell_type": "code",
   "execution_count": 115,
   "id": "9876cdf2",
   "metadata": {},
   "outputs": [],
   "source": [
    "# Add two extra columns to df: left_foot_size_estimated_estimated and right_foot_size_estimated\n",
    "df[\"left_foot_size_estimated\"] = np.nan\n",
    "df[\"right_foot_size_estimated\"] = np.nan"
   ]
  },
  {
   "cell_type": "code",
   "execution_count": 116,
   "id": "2d8fdf1e",
   "metadata": {},
   "outputs": [],
   "source": [
    "# If the interviewee has unequal foot size, calculate the left and right foot size\n",
    "for index, row in df.iterrows():\n",
    "    if row[\"suffering_from_unequal_foot_size\"] and row[\"feet_size_difference_EU\"] >= 0.5:\n",
    "        if row[\"bigger_foot\"] == \"Left\":\n",
    "            df.at[index, \"left_foot_size_estimated\"] = row[\"usual_shoe_size_EU\"]\n",
    "            df.at[index, \"right_foot_size_estimated\"] = row[\"usual_shoe_size_EU\"] - row[\"feet_size_difference_EU\"]\n",
    "        else:\n",
    "            df.at[index, \"left_foot_size_estimated\"] = row[\"usual_shoe_size_EU\"] - row[\"feet_size_difference_EU\"]\n",
    "            df.at[index, \"right_foot_size_estimated\"] = row[\"usual_shoe_size_EU\"]"
   ]
  },
  {
   "cell_type": "code",
   "execution_count": 117,
   "id": "322a8354",
   "metadata": {},
   "outputs": [],
   "source": [
    "df.to_excel(\"questionaire_tidied_up.xlsx\", index=False)"
   ]
  },
  {
   "cell_type": "code",
   "execution_count": 118,
   "id": "170021b0",
   "metadata": {},
   "outputs": [],
   "source": [
    "# translate the column names with Translator library, deprecate because of inaccuracy\n",
    "\n",
    "# from translate import Translator\n",
    "\n",
    "# translator= Translator(from_lang=\"zh\", to_lang=\"en\")\n",
    "# for i in range(len(df.columns)):\n",
    "#     column_in_eng = translator.translate(df.columns[i])\n",
    "#     print(column_in_eng)"
   ]
  }
 ],
 "metadata": {
  "kernelspec": {
   "display_name": "venv",
   "language": "python",
   "name": "python3"
  },
  "language_info": {
   "codemirror_mode": {
    "name": "ipython",
    "version": 3
   },
   "file_extension": ".py",
   "mimetype": "text/x-python",
   "name": "python",
   "nbconvert_exporter": "python",
   "pygments_lexer": "ipython3",
   "version": "3.10.8"
  }
 },
 "nbformat": 4,
 "nbformat_minor": 5
}
